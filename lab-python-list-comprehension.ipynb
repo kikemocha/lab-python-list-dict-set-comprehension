{
 "cells": [
  {
   "cell_type": "markdown",
   "id": "25d7736c-ba17-4aff-b6bb-66eba20fbf4e",
   "metadata": {},
   "source": [
    "# Lab | List, Dict and Set Comprehension"
   ]
  },
  {
   "cell_type": "markdown",
   "id": "7dd3cbde-675a-4b81-92c3-f728846dbe06",
   "metadata": {},
   "source": [
    "## Exercise: Managing Customer Orders Optimized with Comprehension"
   ]
  },
  {
   "cell_type": "markdown",
   "id": "5d500160-2fb7-4777-b5e4-09d45ebaf328",
   "metadata": {},
   "source": [
    "In the previous exercise, you developed a program to manage customer orders and inventory. Now, let's take it a step further and incorporate comprehension into your code.\n",
    "\n",
    "Follow the steps below to complete the exercise:\n",
    "\n",
    "1. Review your code from the previous exercise and identify areas where you can apply comprehension to simplify and streamline your code. \n",
    "\n",
    "    - *Hint: Apply it to initialize inventory, updating the inventory and printing the updated inventory.*\n",
    "    \n",
    "    - For example, in initializing the inventory, we could have:\n",
    "    \n",
    "        ```python\n",
    "        def initialize_inventory(products):\n",
    "            inventory = {product: int(input(f\"Enter the quantity of {product}s available: \")) for product in products}\n",
    "            return inventory\n",
    "\n",
    "        ```\n",
    "<br>\n",
    "    \n",
    "    \n",
    "2. Modify the function get_customer_orders so it prompts the user to enter the number of customer orders and gathers the product names using a loop and user input. Use comprehension.\n",
    "\n",
    "3. Add a new function to calculate the total price of the customer order. For each product in customer_orders, prompt the user to enter the price of that product. Use comprehension to calculate the total price. Note: assume that the user can only have 1 unit of each product.\n",
    "\n",
    "4. Modify the update_inventory function to remove the product from the inventory if its quantity becomes zero after fulfilling the customer orders. Use comprehension to filter out the products with a quantity of zero from the inventory.\n",
    "\n",
    "5. Print the total price of the customer order.\n",
    "\n",
    "Your code should produce output similar to the following:\n",
    "\n",
    "```python\n",
    "Enter the quantity of t-shirts available:  5\n",
    "Enter the quantity of mugs available:  4\n",
    "Enter the quantity of hats available:  3\n",
    "Enter the quantity of books available:  2\n",
    "Enter the quantity of keychains available:  1\n",
    "Enter the number of customer orders:  2\n",
    "Enter the name of a product that a customer wants to order:  hat\n",
    "Enter the name of a product that a customer wants to order:  keychain\n",
    "\n",
    "Order Statistics:\n",
    "Total Products Ordered: 2\n",
    "Percentage of Unique Products Ordered: 40.0\n",
    "\n",
    "Updated Inventory:\n",
    "t-shirt: 5\n",
    "mug: 4\n",
    "hat: 2\n",
    "book: 2\n",
    "Enter the price of keychain:  5\n",
    "Enter the price of hat:  10\n",
    "Total Price: 15.0\n",
    "\n",
    "```\n"
   ]
  },
  {
   "cell_type": "code",
   "execution_count": 11,
   "id": "dec5f4ca-4c81-4bfc-965b-d6d77a3d80dc",
   "metadata": {},
   "outputs": [
    {
     "name": "stdout",
     "output_type": "stream",
     "text": [
      "products: \"t-shirt\", \"mug\", \"hat\", \"book\", \"keychain\"\n"
     ]
    },
    {
     "name": "stdout",
     "output_type": "stream",
     "text": [
      "Enter the quantity of t-shirts available:  1\n",
      "Enter the quantity of mugs available:  1\n",
      "Enter the quantity of hats available:  1\n",
      "Enter the quantity of books available:  1\n",
      "Enter the quantity of keychains available:  1\n",
      "Enter the number of customer orders:  3\n",
      "Enter the name of a product that a customer wants to order: hat\n",
      "Enter the name of a product that a customer wants to order: mug\n",
      "Enter the name of a product that a customer wants to order: book\n"
     ]
    },
    {
     "name": "stdout",
     "output_type": "stream",
     "text": [
      "\n",
      "Order Stadistics: \n",
      " Total Products Ordered: 3\n",
      " Percentage of Products Ordered: 60.0%\n",
      "t-shirt  :  1\n",
      "keychain  :  1\n"
     ]
    },
    {
     "name": "stdout",
     "output_type": "stream",
     "text": [
      "Enter the price of hat:  25.5\n",
      "Enter the price of mug:  10\n",
      "Enter the price of book:  15.99\n"
     ]
    },
    {
     "name": "stdout",
     "output_type": "stream",
     "text": [
      "Total Price:  51.49\n"
     ]
    }
   ],
   "source": [
    "def initialize_inventory(products):\n",
    "    inventory = {product: int(input(f\"Enter the quantity of {product}s available: \")) for product in products}\n",
    "    return inventory\n",
    "\n",
    "def get_customer_orders():\n",
    "    num_customer = int(input('Enter the number of customer orders: '))\n",
    "    customer_order = set(input('Enter the name of a product that a customer wants to order:') for i in range(num_customer))\n",
    "    return customer_order\n",
    "\n",
    "def update_inventory(inventory, customer_order):\n",
    "    for item in customer_order:\n",
    "        inventory[item] -= 1\n",
    "\n",
    "def show_inventory(inventory):\n",
    "    for key, value in inventory.items():\n",
    "        if value != 0:\n",
    "            print(key, \" : \", value)\n",
    "\n",
    "def get_price(customer_order):\n",
    "    total = 0\n",
    "    for item in customer_order:\n",
    "        price = float(input(f'Enter the price of {item}: '))\n",
    "        total += price\n",
    "    print('Total Price: ',round(total,2))\n",
    "    return round(total,2)\n",
    "\n",
    "products = [\"t-shirt\", \"mug\", \"hat\", \"book\", \"keychain\"]\n",
    "print('products: \"t-shirt\", \"mug\", \"hat\", \"book\", \"keychain\"')\n",
    "inventory = initialize_inventory(products)\n",
    "customer_orders = get_customer_orders()\n",
    "print()\n",
    "total_products = sum(inventory.values())\n",
    "\n",
    "order_status = [len(customer_orders), round((len(customer_orders) / total_products) * 100, 1)]\n",
    "print(f\"Order Stadistics: \\n Total Products Ordered: {order_status[0]}\\n Percentage of Products Ordered: {order_status[1]}%\")\n",
    "\n",
    "update_inventory(inventory , customer_orders)\n",
    "show_inventory(inventory)\n",
    "get_price(customer_orders)"
   ]
  },
  {
   "cell_type": "code",
   "execution_count": null,
   "id": "93ce181b-567d-451a-9d8c-6223e7094989",
   "metadata": {},
   "outputs": [],
   "source": []
  }
 ],
 "metadata": {
  "kernelspec": {
   "display_name": "Python 3 (ipykernel)",
   "language": "python",
   "name": "python3"
  },
  "language_info": {
   "codemirror_mode": {
    "name": "ipython",
    "version": 3
   },
   "file_extension": ".py",
   "mimetype": "text/x-python",
   "name": "python",
   "nbconvert_exporter": "python",
   "pygments_lexer": "ipython3",
   "version": "3.12.2"
  }
 },
 "nbformat": 4,
 "nbformat_minor": 5
}
